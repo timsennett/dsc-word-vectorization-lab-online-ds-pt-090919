{
 "cells": [
  {
   "cell_type": "markdown",
   "metadata": {},
   "source": [
    "# Word Vectorization - Lab\n",
    "\n",
    "## Introduction\n",
    "\n",
    "In this lab, you'll tokenize and vectorize text documents, create and use a bag of words, and identify words unique to individual documents using TF-IDF vectorization. \n",
    "\n",
    "\n",
    "## Objectives\n",
    "\n",
    "In this lab you will:  \n",
    "\n",
    "- Implement tokenization and count vectorization from scratch \n",
    "- Implement TF-IDF from scratch \n",
    "- Use dimensionality reduction on vectorized text data to create and interpret visualizations \n",
    "\n",
    "## Let's get started!\n",
    "\n",
    "Run the cell below to import everything necessary for this lab.  "
   ]
  },
  {
   "cell_type": "code",
   "execution_count": 92,
   "metadata": {
    "ExecuteTime": {
     "end_time": "2020-05-05T01:44:04.812583Z",
     "start_time": "2020-05-05T01:44:04.794331Z"
    }
   },
   "outputs": [],
   "source": [
    "import pandas as pd\n",
    "import numpy as np\n",
    "from mpl_toolkits.mplot3d import Axes3D\n",
    "import matplotlib.pyplot as plt\n",
    "%matplotlib inline\n",
    "from sklearn.manifold import TSNE\n",
    "from nltk.tokenize import word_tokenize\n",
    "np.random.seed(0)"
   ]
  },
  {
   "cell_type": "markdown",
   "metadata": {},
   "source": [
    "### Our Corpus\n",
    "\n",
    "In this lab, we'll be working with 20 different documents, each containing song lyrics from either Garth Brooks or Kendrick Lamar albums.  \n",
    "\n",
    "The songs are contained within the `data` subdirectory, contained within the same folder as this lab.  Each song is stored in a single file, with files ranging from `song1.txt` to `song20.txt`.  \n",
    "\n",
    "To make it easy to read in all of the documents, use a list comprehension to create a list containing the name of every single song file in the cell below. "
   ]
  },
  {
   "cell_type": "code",
   "execution_count": 93,
   "metadata": {
    "ExecuteTime": {
     "end_time": "2020-05-05T01:44:07.477967Z",
     "start_time": "2020-05-05T01:44:07.282368Z"
    }
   },
   "outputs": [
    {
     "name": "stdout",
     "output_type": "stream",
     "text": [
      "CONTRIBUTING.md  README.md        index.ipynb      output_31_1.png\r\n",
      "LICENSE.md       \u001b[34mdata\u001b[m\u001b[m/            output_31_0.png\r\n"
     ]
    }
   ],
   "source": [
    "ls"
   ]
  },
  {
   "cell_type": "code",
   "execution_count": 111,
   "metadata": {
    "ExecuteTime": {
     "end_time": "2020-05-05T01:48:37.058388Z",
     "start_time": "2020-05-05T01:48:37.048352Z"
    }
   },
   "outputs": [
    {
     "data": {
      "text/plain": [
       "['song1.txt', 'song2.txt', 'song3.txt', 'song4.txt', 'song5.txt']"
      ]
     },
     "execution_count": 111,
     "metadata": {},
     "output_type": "execute_result"
    }
   ],
   "source": [
    "filenames = ['song' + str(i) + '.txt' for i in range(1, 21)]\n",
    "filenames[:5]"
   ]
  },
  {
   "cell_type": "markdown",
   "metadata": {},
   "source": [
    "Next, create an empty DataFrame called `songs_df`.  As we read in the songs and store and clean them, we'll store them in this DataFrame."
   ]
  },
  {
   "cell_type": "code",
   "execution_count": 112,
   "metadata": {
    "ExecuteTime": {
     "end_time": "2020-05-05T01:48:38.627026Z",
     "start_time": "2020-05-05T01:48:38.619606Z"
    }
   },
   "outputs": [],
   "source": [
    "songs_df = pd.DataFrame()"
   ]
  },
  {
   "cell_type": "markdown",
   "metadata": {},
   "source": [
    "Next, let's import a single song to see what our text looks like so that we can make sure we clean and tokenize it correctly. \n",
    "\n",
    "In the cell below, read in and print out the lyrics from `song11.txt`.  Use vanilla Python, no pandas needed.  "
   ]
  },
  {
   "cell_type": "code",
   "execution_count": 113,
   "metadata": {
    "ExecuteTime": {
     "end_time": "2020-05-05T01:48:41.159346Z",
     "start_time": "2020-05-05T01:48:41.148068Z"
    },
    "scrolled": false
   },
   "outputs": [
    {
     "data": {
      "text/plain": [
       "['[Kendrick Lamar:]\\n',\n",
       " \"Love, let's talk about love\\n\",\n",
       " 'Is it anything and everything you hoped for?\\n',\n",
       " 'Or do the feeling haunt you?\\n',\n",
       " 'I know the feeling haunt you\\n',\n",
       " '[SZA:]\\n',\n",
       " 'This may be the night that my dreams might let me know\\n',\n",
       " 'All the stars approach you, all the stars approach you, all the stars approach you\\n',\n",
       " 'This may be the night that my dreams might let me know\\n',\n",
       " 'All the stars are closer, all the stars are closer, all the stars are closer\\n',\n",
       " '[Kendrick Lamar:]\\n',\n",
       " \"Tell me what you gon' do to me\\n\",\n",
       " \"Confrontation ain't nothin' new to me\\n\",\n",
       " 'You can bring a bullet, bring a sword, bring a morgue\\n',\n",
       " \"But you can't bring the truth to me\\n\",\n",
       " 'Fuck you and all your expectations\\n',\n",
       " \"I don't even want your congratulations\\n\",\n",
       " 'I recognize your false confidence\\n',\n",
       " 'And calculated promises all in your conversation\\n',\n",
       " 'I hate people that feel entitled\\n',\n",
       " \"Look at me crazy 'cause I ain't invite you\\n\",\n",
       " 'Oh, you important?\\n',\n",
       " \"You the moral to the story? You endorsin'?\\n\",\n",
       " \"Motherfucker, I don't even like you\\n\",\n",
       " \"Corrupt a man's heart with a gift\\n\",\n",
       " \"That's how you find out who you dealin' with\\n\",\n",
       " \"A small percentage who I'm buildin' with\\n\",\n",
       " \"I want the credit if I'm losin' or I'm winnin'\\n\",\n",
       " \"On my momma, that's the realest shit\\n\",\n",
       " \"Love, let's talk about love\\n\",\n",
       " 'Is it anything and everything you hoped for?\\n',\n",
       " 'Or do the feeling haunt you?\\n',\n",
       " 'I know the feeling haunt you\\n',\n",
       " '[SZA:]\\n',\n",
       " 'This may be the night that my dreams might let me know\\n',\n",
       " 'All the stars approach you, all the stars approach you, all the stars approach you\\n',\n",
       " 'This may be the night that my dreams might let me know\\n',\n",
       " 'All the stars are closer, all the stars are closer, all the stars are closer\\n',\n",
       " 'Skin covered in ego\\n',\n",
       " \"Get to talkin' like ya involved, like a rebound\\n\",\n",
       " 'Got no end game, got no reason\\n',\n",
       " \"Got to stay down, it's the way that you making me feel\\n\",\n",
       " 'Like nobody ever loved me like you do, you do\\n',\n",
       " \"You kinda feeling like you're tryna get away from me\\n\",\n",
       " \"If you do, I won't move\\n\",\n",
       " \"I ain't just cryin' for no reason\\n\",\n",
       " \"I ain't just prayin' for no reason\\n\",\n",
       " 'I give thanks for the days, for the hours\\n',\n",
       " \"And another way, another life breathin'\\n\",\n",
       " \"I did it all 'cause it feel good\\n\",\n",
       " \"I wouldn't do it at all if it feel bad\\n\",\n",
       " \"Better live your life, we're runnin' out of time\\n\",\n",
       " '[Kendrick Lamar & SZA:]\\n',\n",
       " \"Love, let's talk about love\\n\",\n",
       " 'Is it anything and everything you hoped for?\\n',\n",
       " 'Or do the feeling haunt you?\\n',\n",
       " 'I know the feeling haunt you\\n',\n",
       " '[SZA:]\\n',\n",
       " 'This may be the night that my dreams might let me know\\n',\n",
       " 'All the stars approach you, all the stars approach you, all the stars approach you\\n',\n",
       " 'This may be the night that my dreams might let me know\\n',\n",
       " 'All the stars are closer, all the stars are closer, all the stars are closer\\n']"
      ]
     },
     "execution_count": 113,
     "metadata": {},
     "output_type": "execute_result"
    }
   ],
   "source": [
    "# Import and print song11.txt\n",
    "\n",
    "with open('data/song11.txt') as f:\n",
    "    test_song = f.readlines()\n",
    "#     print(test_song)\n",
    "\n",
    "# This makes it easier for me to see line by line\n",
    "test_song"
   ]
  },
  {
   "cell_type": "markdown",
   "metadata": {},
   "source": [
    "### Tokenizing our Data\n",
    "\n",
    "Before we can create a bag of words or vectorize each document, we need to clean it up and split each song into an array of individual words. Computers are very particular about strings. If we tokenized our data in its current state, we would run into the following problems:\n",
    "\n",
    "- Counting things that aren't actually words.  In the example above, `\"[Kendrick]\"` is a note specifying who is speaking, not a lyric contained in the actual song, so it should be removed.  \n",
    "- Punctuation and capitalization would mess up our word counts. To the Python interpreter, `love`, `Love`, `Love?`, and `Love\\n` are all unique words, and would all be counted separately.  We need to remove punctuation and capitalization, so that all words will be counted correctly. \n",
    "\n",
    "Consider the following sentences from the example above:\n",
    "\n",
    "`\"Love, let's talk about love\\n\", 'Is it anything and everything you hoped for?\\n'`\n",
    "\n",
    "After tokenization, this should look like:\n",
    "\n",
    "`['love', 'let's', 'talk', 'about', 'love', 'is', 'it', 'anything', 'and', 'everything', 'you', 'hoped', 'for']`\n",
    "\n",
    "Tokenization is pretty tedious if we handle it manually, and would probably make use of regular expressions, which is outside the scope of this lab. In order to keep this lab moving, we'll use a library function to clean and tokenize our data so that we can move onto vectorization.  \n",
    "\n",
    "Tokenization is a required task for just about any Natural Language Processing (NLP) task, so great industry-standard tools exist to tokenize things for us, so that we can spend our time on more important tasks without getting bogged down hunting every special symbol or punctuation in a massive dataset. For this lab, we'll make use of the tokenizer in the amazing `nltk` library, which is short for _Natural Language Tool Kit_.\n",
    "\n",
    "**_NOTE:_** NLTK requires extra installation methods to be run the first time certain methods are used.  If `nltk` throws you an error about needing to install additional packages, follow the instructions in the error message to install the dependencies, and then rerun the cell.  \n",
    "\n",
    "Before we tokenize our songs, we'll do only a small manual bit of cleaning. In the cell below, write a function that allows us to remove lines that have `['artist names']` in it, to ensure that our song files contain only lyrics that are actually in the song. For the lines that remain, make every word lowercase, remove newline characters `\\n`, and all the following punctuation marks: `\",.'?!\"`\n",
    "\n",
    "Test the function on `test_song` to show that it has successfully removed `'[Kendrick Lamar:]'` and other instances of artist names from the song and returned it.  "
   ]
  },
  {
   "cell_type": "code",
   "execution_count": 114,
   "metadata": {
    "ExecuteTime": {
     "end_time": "2020-05-05T01:49:21.990711Z",
     "start_time": "2020-05-05T01:49:21.941041Z"
    }
   },
   "outputs": [
    {
     "data": {
      "text/plain": [
       "['love lets talk about love',\n",
       " 'is it anything and everything you hoped for',\n",
       " 'or do the feeling haunt you',\n",
       " 'i know the feeling haunt you',\n",
       " 'this may be the night that my dreams might let me know',\n",
       " 'all the stars approach you all the stars approach you all the stars approach you',\n",
       " 'this may be the night that my dreams might let me know',\n",
       " 'all the stars are closer all the stars are closer all the stars are closer',\n",
       " 'tell me what you gon do to me',\n",
       " 'confrontation aint nothin new to me',\n",
       " 'you can bring a bullet bring a sword bring a morgue',\n",
       " 'but you cant bring the truth to me',\n",
       " 'fuck you and all your expectations',\n",
       " 'i dont even want your congratulations',\n",
       " 'i recognize your false confidence',\n",
       " 'and calculated promises all in your conversation',\n",
       " 'i hate people that feel entitled',\n",
       " 'look at me crazy cause i aint invite you',\n",
       " 'oh you important',\n",
       " 'you the moral to the story you endorsin',\n",
       " 'motherfucker i dont even like you',\n",
       " 'corrupt a mans heart with a gift',\n",
       " 'thats how you find out who you dealin with',\n",
       " 'a small percentage who im buildin with',\n",
       " 'i want the credit if im losin or im winnin',\n",
       " 'on my momma thats the realest shit',\n",
       " 'love lets talk about love',\n",
       " 'is it anything and everything you hoped for',\n",
       " 'or do the feeling haunt you',\n",
       " 'i know the feeling haunt you',\n",
       " 'this may be the night that my dreams might let me know',\n",
       " 'all the stars approach you all the stars approach you all the stars approach you',\n",
       " 'this may be the night that my dreams might let me know',\n",
       " 'all the stars are closer all the stars are closer all the stars are closer',\n",
       " 'skin covered in ego',\n",
       " 'get to talkin like ya involved like a rebound',\n",
       " 'got no end game got no reason',\n",
       " 'got to stay down its the way that you making me feel',\n",
       " 'like nobody ever loved me like you do you do',\n",
       " 'you kinda feeling like youre tryna get away from me',\n",
       " 'if you do i wont move',\n",
       " 'i aint just cryin for no reason',\n",
       " 'i aint just prayin for no reason',\n",
       " 'i give thanks for the days for the hours',\n",
       " 'and another way another life breathin',\n",
       " 'i did it all cause it feel good',\n",
       " 'i wouldnt do it at all if it feel bad',\n",
       " 'better live your life were runnin out of time',\n",
       " 'love lets talk about love',\n",
       " 'is it anything and everything you hoped for',\n",
       " 'or do the feeling haunt you',\n",
       " 'i know the feeling haunt you',\n",
       " 'this may be the night that my dreams might let me know',\n",
       " 'all the stars approach you all the stars approach you all the stars approach you',\n",
       " 'this may be the night that my dreams might let me know',\n",
       " 'all the stars are closer all the stars are closer all the stars are closer']"
      ]
     },
     "execution_count": 114,
     "metadata": {},
     "output_type": "execute_result"
    }
   ],
   "source": [
    "def clean_song(song):\n",
    "    cleaned_song = []\n",
    "    for line in song:\n",
    "        if not '[' in line and  not ']' in line:\n",
    "            for symbol in \",.?!''\\n\":\n",
    "                line = line.replace(symbol, '').lower()\n",
    "            cleaned_song.append(line)\n",
    "\n",
    "    return cleaned_song\n",
    "\n",
    "song_without_brackets = clean_song(test_song)\n",
    "song_without_brackets"
   ]
  },
  {
   "cell_type": "markdown",
   "metadata": {},
   "source": [
    "Great. Now, write a function that takes in songs that have had their brackets removed, joins all of the lines into a single string, and then uses `tokenize()` on it to get a fully tokenized version of the song.  Test this function on `song_without_brackets` to ensure that the function works. "
   ]
  },
  {
   "cell_type": "code",
   "execution_count": 98,
   "metadata": {
    "ExecuteTime": {
     "end_time": "2020-05-05T01:44:31.050558Z",
     "start_time": "2020-05-05T01:44:30.763134Z"
    },
    "scrolled": true
   },
   "outputs": [
    {
     "name": "stderr",
     "output_type": "stream",
     "text": [
      "[nltk_data] Downloading package punkt to\n",
      "[nltk_data]     /Users/timsennett/nltk_data...\n",
      "[nltk_data]   Package punkt is already up-to-date!\n"
     ]
    },
    {
     "data": {
      "text/plain": [
       "True"
      ]
     },
     "execution_count": 98,
     "metadata": {},
     "output_type": "execute_result"
    }
   ],
   "source": [
    "import nltk\n",
    "nltk.download('punkt')"
   ]
  },
  {
   "cell_type": "code",
   "execution_count": 115,
   "metadata": {
    "ExecuteTime": {
     "end_time": "2020-05-05T01:49:55.692044Z",
     "start_time": "2020-05-05T01:49:55.677891Z"
    },
    "scrolled": true
   },
   "outputs": [
    {
     "data": {
      "text/plain": [
       "['love',\n",
       " 'lets',\n",
       " 'talk',\n",
       " 'about',\n",
       " 'love',\n",
       " 'is',\n",
       " 'it',\n",
       " 'anything',\n",
       " 'and',\n",
       " 'everything']"
      ]
     },
     "execution_count": 115,
     "metadata": {},
     "output_type": "execute_result"
    }
   ],
   "source": [
    "def tokenize(song):\n",
    "    joined_song = ' '.join(song)\n",
    "    tokenized_song = word_tokenize(joined_song)\n",
    "    return tokenized_song\n",
    "\n",
    "tokenized_test_song = tokenize(song_without_brackets)\n",
    "tokenized_test_song[:10]"
   ]
  },
  {
   "cell_type": "markdown",
   "metadata": {},
   "source": [
    "Great! Now that we can tokenize our songs, we can move onto vectorization. \n",
    "\n",
    "\n",
    "### Count Vectorization\n",
    "\n",
    "Machine Learning algorithms don't understand strings. However, they do understand math, which means they understand vectors and matrices.  By **_Vectorizing_** the text, we just convert the entire text into a vector, where each element in the vector represents a different word. The vector is the length of the entire vocabulary -- usually, every word that occurs in the English language, or at least every word that appears in our corpus.  Any given sentence can then be represented as a vector where all the vector is 1 (or some other value) for each time that word appears in the sentence. \n",
    "\n",
    "Consider the following example: \n",
    "\n",
    "<center>\"I scream, you scream, we all scream for ice cream.\"</center>\n",
    "\n",
    "| 'aardvark' | 'apple' | [...] | 'I' | 'you' | 'scream' | 'we' | 'all' | 'for' | 'ice' | 'cream' | [...] | 'xylophone' | 'zebra' |\n",
    "|:----------:|:-------:|:-----:|:---:|:-----:|:--------:|:----:|:-----:|:-----:|:-----:|:-------:|:-----:|:-----------:|:-------:|\n",
    "|      0     |    0    |   0   |  1  |   1   |     3    |   1  |   1   |   1   |   1   |    1    |   0   |      0      |    0    |\n",
    "\n",
    "This is called a **_Sparse Representation_**, since the strong majority of the columns will have a value of 0.  Note that elements corresponding to words that do not occur in the sentence have a value of 0, while words that do appear in the sentence have a value of 1 (or 1 for each time it appears in the sentence).\n",
    "\n",
    "Alternatively, we can represent this sentence as a plain old Python dictionary of word frequency counts:\n",
    "\n",
    "```python\n",
    "BoW = {\n",
    "    'I':1,\n",
    "    'you':1,\n",
    "    'scream':3,\n",
    "    'we':1,\n",
    "    'all':1,\n",
    "    'for':1,\n",
    "    'ice':1,\n",
    "    'cream':1\n",
    "}\n",
    "```\n",
    "\n",
    "Both of these are examples of **_Count Vectorization_**. They allow us to represent a sentence as a vector, with each element in the vector corresponding to how many times that word is used.\n",
    "\n",
    "#### Positional Information and Bag of Words\n",
    "\n",
    "Notice that when we vectorize a sentence this way, we lose the order that the words were in.  This is the **_Bag of Words_** approach mentioned earlier.  Note that sentences that contain the same words will create the same vectors, even if they mean different things -- e.g. `'cats are scared of dogs'` and `'dogs are scared of cats'` would both produce the exact same vector, since they contain the same words.  \n",
    "\n",
    "In the cell below, create a function that takes in a tokenized, cleaned song and returns a count vectorized representation of it as a Python dictionary. Add in an optional parameter called `vocab` that defaults to `None`. This way, if we are using a vocabulary that contains words not seen in the song, we can still use this function by passing it into the `vocab` parameter. \n",
    "\n",
    "**_Hint:_**  Consider using a `set()` to make this easier!"
   ]
  },
  {
   "cell_type": "code",
   "execution_count": 127,
   "metadata": {
    "ExecuteTime": {
     "end_time": "2020-05-05T01:51:07.635971Z",
     "start_time": "2020-05-05T01:51:07.619516Z"
    }
   },
   "outputs": [
    {
     "data": {
      "text/plain": [
       "{'congratulations': 1,\n",
       " 'on': 1,\n",
       " 'dreams': 6,\n",
       " 'with': 3,\n",
       " 'like': 6,\n",
       " 'but': 1,\n",
       " 'stay': 1,\n",
       " 'days': 1,\n",
       " 'bad': 1,\n",
       " 'how': 1,\n",
       " 'momma': 1,\n",
       " 'corrupt': 1,\n",
       " 'is': 3,\n",
       " 'loved': 1,\n",
       " 'that': 8,\n",
       " 'to': 6,\n",
       " 'give': 1,\n",
       " 'thanks': 1,\n",
       " 'runnin': 1,\n",
       " 'covered': 1,\n",
       " 'reason': 3,\n",
       " 'morgue': 1,\n",
       " 'nobody': 1,\n",
       " 'expectations': 1,\n",
       " 'conversation': 1,\n",
       " 'ever': 1,\n",
       " 'live': 1,\n",
       " 'and': 6,\n",
       " 'can': 1,\n",
       " 'might': 6,\n",
       " 'im': 3,\n",
       " 'shit': 1,\n",
       " 'if': 3,\n",
       " 'prayin': 1,\n",
       " 'story': 1,\n",
       " 'closer': 9,\n",
       " 'breathin': 1,\n",
       " 'talkin': 1,\n",
       " 'hoped': 3,\n",
       " 'another': 2,\n",
       " 'of': 1,\n",
       " 'know': 9,\n",
       " 'love': 6,\n",
       " 'let': 6,\n",
       " 'truth': 1,\n",
       " 'dont': 2,\n",
       " 'at': 2,\n",
       " 'confrontation': 1,\n",
       " 'out': 2,\n",
       " 'credit': 1,\n",
       " 'losin': 1,\n",
       " 'all': 22,\n",
       " 'calculated': 1,\n",
       " 'bring': 4,\n",
       " 'promises': 1,\n",
       " 'are': 9,\n",
       " 'making': 1,\n",
       " 'no': 4,\n",
       " 'do': 8,\n",
       " 'game': 1,\n",
       " 'for': 7,\n",
       " 'even': 2,\n",
       " 'feel': 4,\n",
       " 'winnin': 1,\n",
       " 'youre': 1,\n",
       " 'got': 3,\n",
       " 'night': 6,\n",
       " 'bullet': 1,\n",
       " 'better': 1,\n",
       " 'my': 7,\n",
       " 'talk': 3,\n",
       " 'sword': 1,\n",
       " 'endorsin': 1,\n",
       " 'your': 5,\n",
       " 'buildin': 1,\n",
       " 'cryin': 1,\n",
       " 'rebound': 1,\n",
       " 'gift': 1,\n",
       " 'aint': 4,\n",
       " 'ego': 1,\n",
       " 'time': 1,\n",
       " 'small': 1,\n",
       " 'invite': 1,\n",
       " 'what': 1,\n",
       " 'involved': 1,\n",
       " 'move': 1,\n",
       " 'look': 1,\n",
       " 'feeling': 7,\n",
       " 'moral': 1,\n",
       " 'ya': 1,\n",
       " 'entitled': 1,\n",
       " 'me': 14,\n",
       " 'stars': 18,\n",
       " 'did': 1,\n",
       " 'cant': 1,\n",
       " 'be': 6,\n",
       " 'way': 2,\n",
       " 'i': 15,\n",
       " 'good': 1,\n",
       " 'may': 6,\n",
       " 'thats': 2,\n",
       " 'end': 1,\n",
       " 'from': 1,\n",
       " 'hate': 1,\n",
       " 'or': 4,\n",
       " 'fuck': 1,\n",
       " 'tell': 1,\n",
       " 'cause': 2,\n",
       " 'everything': 3,\n",
       " 'down': 1,\n",
       " 'realest': 1,\n",
       " 'its': 1,\n",
       " 'people': 1,\n",
       " 'a': 7,\n",
       " 'anything': 3,\n",
       " 'wont': 1,\n",
       " 'find': 1,\n",
       " 'just': 2,\n",
       " 'it': 7,\n",
       " 'false': 1,\n",
       " 'new': 1,\n",
       " 'skin': 1,\n",
       " 'gon': 1,\n",
       " 'important': 1,\n",
       " 'crazy': 1,\n",
       " 'confidence': 1,\n",
       " 'about': 3,\n",
       " 'kinda': 1,\n",
       " 'lets': 3,\n",
       " 'motherfucker': 1,\n",
       " 'away': 1,\n",
       " 'recognize': 1,\n",
       " 'mans': 1,\n",
       " 'heart': 1,\n",
       " 'want': 2,\n",
       " 'in': 2,\n",
       " 'hours': 1,\n",
       " 'dealin': 1,\n",
       " 'haunt': 6,\n",
       " 'nothin': 1,\n",
       " 'get': 2,\n",
       " 'approach': 9,\n",
       " 'the': 38,\n",
       " 'you': 34,\n",
       " 'life': 2,\n",
       " 'who': 2,\n",
       " 'this': 6,\n",
       " 'tryna': 1,\n",
       " 'were': 1,\n",
       " 'percentage': 1,\n",
       " 'wouldnt': 1,\n",
       " 'oh': 1}"
      ]
     },
     "execution_count": 127,
     "metadata": {},
     "output_type": "execute_result"
    }
   ],
   "source": [
    "def count_vectorize(song, vocab=None):\n",
    "    if vocab:\n",
    "        unique_words = vocab\n",
    "    else:\n",
    "        unique_words = list(set(song))\n",
    "    \n",
    "    song_dict = {i:0 for i in unique_words}\n",
    "    \n",
    "    for word in song:\n",
    "        song_dict[word] += 1\n",
    "    \n",
    "    return song_dict\n",
    "\n",
    "test_vectorized = count_vectorize(tokenized_test_song)\n",
    "test_vectorized"
   ]
  },
  {
   "cell_type": "markdown",
   "metadata": {},
   "source": [
    "Great! You've just successfully vectorized your first text document! Now, let's look at a more advanced type of vectorization, TF-IDF!\n",
    "\n",
    "### TF-IDF Vectorization\n",
    "\n",
    "TF-IDF stands for **_Term Frequency, Inverse Document Frequency_**.  This is a more advanced form of vectorization that weighs each term in a document by how unique it is to the given document it is contained in, which allows us to summarize the contents of a document using a few key words.  If the word is used often in many other documents, it is not unique, and therefore probably not too useful if we wanted to figure out how this document is unique in relation to other documents. Conversely, if a word is used many times in a document, but rarely in all the other documents we are considering, then it is likely a good indicator for telling us that this word is important to the document in question.  \n",
    "\n",
    "The formula TF-IDF uses to determine the weights of each term in a document is **_Term Frequency_** multiplied by **_Inverse Document Frequency_**, where the formula for Term Frequency is:\n",
    "\n",
    "$$\\large Term\\ Frequency(t) = \\frac{number\\ of\\ times\\ t\\ appears\\ in\\ a\\ document} {total\\ number\\ of\\ terms\\ in\\ the\\ document} $$\n",
    "<br>\n",
    "<br>\n",
    "Complete the following function below to calculate term frequency for every term in a document.  "
   ]
  },
  {
   "cell_type": "code",
   "execution_count": 128,
   "metadata": {
    "ExecuteTime": {
     "end_time": "2020-05-05T01:51:25.986540Z",
     "start_time": "2020-05-05T01:51:25.970200Z"
    }
   },
   "outputs": [
    {
     "name": "stdout",
     "output_type": "stream",
     "text": [
      "['momma', 'corrupt', 'is', 'loved', 'that', 'to', 'give', 'thanks', 'runnin', 'covered']\n"
     ]
    }
   ],
   "source": [
    "def term_frequency(BoW_dict):\n",
    "    total_word_count = sum(BoW_dict.values())\n",
    "    \n",
    "    for ind, val in BoW_dict.items():\n",
    "        BoW_dict[ind] = val/ total_word_count\n",
    "    \n",
    "    return BoW_dict\n",
    "\n",
    "test = term_frequency(test_vectorized)\n",
    "print(list(test)[10:20])"
   ]
  },
  {
   "cell_type": "code",
   "execution_count": 129,
   "metadata": {
    "ExecuteTime": {
     "end_time": "2020-05-05T01:51:29.280970Z",
     "start_time": "2020-05-05T01:51:29.266533Z"
    }
   },
   "outputs": [
    {
     "data": {
      "text/plain": [
       "{'congratulations': 0.0020833333333333333,\n",
       " 'on': 0.0020833333333333333,\n",
       " 'dreams': 0.0125,\n",
       " 'with': 0.00625,\n",
       " 'like': 0.0125,\n",
       " 'but': 0.0020833333333333333,\n",
       " 'stay': 0.0020833333333333333,\n",
       " 'days': 0.0020833333333333333,\n",
       " 'bad': 0.0020833333333333333,\n",
       " 'how': 0.0020833333333333333,\n",
       " 'momma': 0.0020833333333333333,\n",
       " 'corrupt': 0.0020833333333333333,\n",
       " 'is': 0.00625,\n",
       " 'loved': 0.0020833333333333333,\n",
       " 'that': 0.016666666666666666,\n",
       " 'to': 0.0125,\n",
       " 'give': 0.0020833333333333333,\n",
       " 'thanks': 0.0020833333333333333,\n",
       " 'runnin': 0.0020833333333333333,\n",
       " 'covered': 0.0020833333333333333,\n",
       " 'reason': 0.00625,\n",
       " 'morgue': 0.0020833333333333333,\n",
       " 'nobody': 0.0020833333333333333,\n",
       " 'expectations': 0.0020833333333333333,\n",
       " 'conversation': 0.0020833333333333333,\n",
       " 'ever': 0.0020833333333333333,\n",
       " 'live': 0.0020833333333333333,\n",
       " 'and': 0.0125,\n",
       " 'can': 0.0020833333333333333,\n",
       " 'might': 0.0125,\n",
       " 'im': 0.00625,\n",
       " 'shit': 0.0020833333333333333,\n",
       " 'if': 0.00625,\n",
       " 'prayin': 0.0020833333333333333,\n",
       " 'story': 0.0020833333333333333,\n",
       " 'closer': 0.01875,\n",
       " 'breathin': 0.0020833333333333333,\n",
       " 'talkin': 0.0020833333333333333,\n",
       " 'hoped': 0.00625,\n",
       " 'another': 0.004166666666666667,\n",
       " 'of': 0.0020833333333333333,\n",
       " 'know': 0.01875,\n",
       " 'love': 0.0125,\n",
       " 'let': 0.0125,\n",
       " 'truth': 0.0020833333333333333,\n",
       " 'dont': 0.004166666666666667,\n",
       " 'at': 0.004166666666666667,\n",
       " 'confrontation': 0.0020833333333333333,\n",
       " 'out': 0.004166666666666667,\n",
       " 'credit': 0.0020833333333333333,\n",
       " 'losin': 0.0020833333333333333,\n",
       " 'all': 0.04583333333333333,\n",
       " 'calculated': 0.0020833333333333333,\n",
       " 'bring': 0.008333333333333333,\n",
       " 'promises': 0.0020833333333333333,\n",
       " 'are': 0.01875,\n",
       " 'making': 0.0020833333333333333,\n",
       " 'no': 0.008333333333333333,\n",
       " 'do': 0.016666666666666666,\n",
       " 'game': 0.0020833333333333333,\n",
       " 'for': 0.014583333333333334,\n",
       " 'even': 0.004166666666666667,\n",
       " 'feel': 0.008333333333333333,\n",
       " 'winnin': 0.0020833333333333333,\n",
       " 'youre': 0.0020833333333333333,\n",
       " 'got': 0.00625,\n",
       " 'night': 0.0125,\n",
       " 'bullet': 0.0020833333333333333,\n",
       " 'better': 0.0020833333333333333,\n",
       " 'my': 0.014583333333333334,\n",
       " 'talk': 0.00625,\n",
       " 'sword': 0.0020833333333333333,\n",
       " 'endorsin': 0.0020833333333333333,\n",
       " 'your': 0.010416666666666666,\n",
       " 'buildin': 0.0020833333333333333,\n",
       " 'cryin': 0.0020833333333333333,\n",
       " 'rebound': 0.0020833333333333333,\n",
       " 'gift': 0.0020833333333333333,\n",
       " 'aint': 0.008333333333333333,\n",
       " 'ego': 0.0020833333333333333,\n",
       " 'time': 0.0020833333333333333,\n",
       " 'small': 0.0020833333333333333,\n",
       " 'invite': 0.0020833333333333333,\n",
       " 'what': 0.0020833333333333333,\n",
       " 'involved': 0.0020833333333333333,\n",
       " 'move': 0.0020833333333333333,\n",
       " 'look': 0.0020833333333333333,\n",
       " 'feeling': 0.014583333333333334,\n",
       " 'moral': 0.0020833333333333333,\n",
       " 'ya': 0.0020833333333333333,\n",
       " 'entitled': 0.0020833333333333333,\n",
       " 'me': 0.029166666666666667,\n",
       " 'stars': 0.0375,\n",
       " 'did': 0.0020833333333333333,\n",
       " 'cant': 0.0020833333333333333,\n",
       " 'be': 0.0125,\n",
       " 'way': 0.004166666666666667,\n",
       " 'i': 0.03125,\n",
       " 'good': 0.0020833333333333333,\n",
       " 'may': 0.0125,\n",
       " 'thats': 0.004166666666666667,\n",
       " 'end': 0.0020833333333333333,\n",
       " 'from': 0.0020833333333333333,\n",
       " 'hate': 0.0020833333333333333,\n",
       " 'or': 0.008333333333333333,\n",
       " 'fuck': 0.0020833333333333333,\n",
       " 'tell': 0.0020833333333333333,\n",
       " 'cause': 0.004166666666666667,\n",
       " 'everything': 0.00625,\n",
       " 'down': 0.0020833333333333333,\n",
       " 'realest': 0.0020833333333333333,\n",
       " 'its': 0.0020833333333333333,\n",
       " 'people': 0.0020833333333333333,\n",
       " 'a': 0.014583333333333334,\n",
       " 'anything': 0.00625,\n",
       " 'wont': 0.0020833333333333333,\n",
       " 'find': 0.0020833333333333333,\n",
       " 'just': 0.004166666666666667,\n",
       " 'it': 0.014583333333333334,\n",
       " 'false': 0.0020833333333333333,\n",
       " 'new': 0.0020833333333333333,\n",
       " 'skin': 0.0020833333333333333,\n",
       " 'gon': 0.0020833333333333333,\n",
       " 'important': 0.0020833333333333333,\n",
       " 'crazy': 0.0020833333333333333,\n",
       " 'confidence': 0.0020833333333333333,\n",
       " 'about': 0.00625,\n",
       " 'kinda': 0.0020833333333333333,\n",
       " 'lets': 0.00625,\n",
       " 'motherfucker': 0.0020833333333333333,\n",
       " 'away': 0.0020833333333333333,\n",
       " 'recognize': 0.0020833333333333333,\n",
       " 'mans': 0.0020833333333333333,\n",
       " 'heart': 0.0020833333333333333,\n",
       " 'want': 0.004166666666666667,\n",
       " 'in': 0.004166666666666667,\n",
       " 'hours': 0.0020833333333333333,\n",
       " 'dealin': 0.0020833333333333333,\n",
       " 'haunt': 0.0125,\n",
       " 'nothin': 0.0020833333333333333,\n",
       " 'get': 0.004166666666666667,\n",
       " 'approach': 0.01875,\n",
       " 'the': 0.07916666666666666,\n",
       " 'you': 0.07083333333333333,\n",
       " 'life': 0.004166666666666667,\n",
       " 'who': 0.004166666666666667,\n",
       " 'this': 0.0125,\n",
       " 'tryna': 0.0020833333333333333,\n",
       " 'were': 0.0020833333333333333,\n",
       " 'percentage': 0.0020833333333333333,\n",
       " 'wouldnt': 0.0020833333333333333,\n",
       " 'oh': 0.0020833333333333333}"
      ]
     },
     "execution_count": 129,
     "metadata": {},
     "output_type": "execute_result"
    }
   ],
   "source": [
    "test"
   ]
  },
  {
   "cell_type": "markdown",
   "metadata": {},
   "source": [
    "Now that we have this, we can easily calculate _Inverse Document Frequency_.  In the cell below, complete the following function.  this function should take in the list of dictionaries, with each item in the list being a bag of words representing the words in a different song. The function should return a dictionary containing the inverse document frequency values for each word.  \n",
    "\n",
    "The formula for Inverse Document Frequency is:  \n",
    "<br>  \n",
    "<br>\n",
    "$$\\large  IDF(t) =  log_e(\\frac{Total\\ Number\\ of\\ Documents}{Number\\ of\\ Documents\\ with\\ t\\ in\\ it})$$"
   ]
  },
  {
   "cell_type": "code",
   "execution_count": 130,
   "metadata": {
    "ExecuteTime": {
     "end_time": "2020-05-05T01:51:54.889509Z",
     "start_time": "2020-05-05T01:51:54.880852Z"
    }
   },
   "outputs": [],
   "source": [
    "def inverse_document_frequency(list_of_dicts):\n",
    "    vocab_set = set()\n",
    "    # Iterate through list of dfs and add index to vocab_set\n",
    "    for d in list_of_dicts:\n",
    "        for word in d.keys():\n",
    "            vocab_set.add(word)\n",
    "    \n",
    "    # Once vocab set is complete, create an empty dictionary with a key for each word and value of 0.\n",
    "    full_vocab_dict = {i:0 for i in vocab_set}\n",
    "    \n",
    "    # Loop through each word in full_vocab_dict\n",
    "    for word, val in full_vocab_dict.items():\n",
    "        docs = 0\n",
    "        \n",
    "        # Loop through list of dicts.  Each time a dictionary contains the word, increment docs by 1\n",
    "        for d in list_of_dicts:\n",
    "            if word in d:\n",
    "                docs += 1\n",
    "        \n",
    "        # Now that we know denominator for equation, compute and set IDF value for word\n",
    "        \n",
    "        full_vocab_dict[word] = np.log((len(list_of_dicts)/ float(docs)))\n",
    "    \n",
    "    return full_vocab_dict"
   ]
  },
  {
   "cell_type": "markdown",
   "metadata": {},
   "source": [
    "### Computing TF-IDF\n",
    "\n",
    "Now that we can compute both Term Frequency and Inverse Document Frequency, computing an overall TF-IDF value is simple! All we need to do is multiply the two values.  \n",
    "\n",
    "In the cell below, complete the `tf_idf()` function.  This function should take in a list of dictionaries, just as the `inverse_document_frequency()` function did.  This function returns a new list of dictionaries, with each dictionary containing the tf-idf vectorized representation of a corresponding song document. \n",
    "\n",
    "**_NOTE:_** Each document should contain the full vocabulary of the entire combined corpus.  "
   ]
  },
  {
   "cell_type": "code",
   "execution_count": 131,
   "metadata": {
    "ExecuteTime": {
     "end_time": "2020-05-05T01:52:15.243935Z",
     "start_time": "2020-05-05T01:52:15.235609Z"
    }
   },
   "outputs": [],
   "source": [
    "def tf_idf(list_of_dicts):\n",
    "    # Create empty dictionary containing full vocabulary of entire corpus\n",
    "    doc_tf_idf = {}\n",
    "    idf = inverse_document_frequency(list_of_dicts)\n",
    "    full_vocab_list = {i:0 for i in list(idf.keys())}\n",
    "    \n",
    "    # Create tf-idf list of dictionaries, containing a dictionary that will be updated for each document\n",
    "    tf_idf_list_of_dicts = []\n",
    "    \n",
    "    # Now, compute tf and then use this to compute and set tf-idf values for each document\n",
    "    for doc in list_of_dicts:\n",
    "        doc_tf = term_frequency(doc)\n",
    "        for word in doc_tf:\n",
    "            doc_tf_idf[word] = doc_tf[word] * idf[word]\n",
    "        tf_idf_list_of_dicts.append(doc_tf_idf)\n",
    "    \n",
    "    return tf_idf_list_of_dicts"
   ]
  },
  {
   "cell_type": "markdown",
   "metadata": {},
   "source": [
    "### Vectorizing All Documents\n",
    "\n",
    "Now that we've created all the necessary helper functions, we can load in all of our documents and run each through the vectorization pipeline we've just created.\n",
    "\n",
    "In the cell below, complete the `main()` function.  This function should take in a list of file names (provided for you in the `filenames` list we created at the start), and then:\n",
    "\n",
    "- Read in each document\n",
    "- Tokenize each document\n",
    "- Convert each document to a bag of words (dictionary representation)\n",
    "- Return a list of dictionaries vectorized using tf-idf, where each dictionary is a vectorized representation of a document "
   ]
  },
  {
   "cell_type": "code",
   "execution_count": 132,
   "metadata": {
    "ExecuteTime": {
     "end_time": "2020-05-05T01:52:35.466979Z",
     "start_time": "2020-05-05T01:52:35.376046Z"
    }
   },
   "outputs": [
    {
     "name": "stdout",
     "output_type": "stream",
     "text": [
      "['trinity', 'never', 'on', 'dreams', 'miracle', 'as', 'highway', 'how', 'scenes', 'kept']\n"
     ]
    }
   ],
   "source": [
    "def main(filenames):\n",
    "    # Iterate through list of filenames and read each in\n",
    "    count_vectorized_all_documents = []\n",
    "    for file in filenames:\n",
    "        with open('data/' + file) as f:\n",
    "            raw_data = f.readlines()\n",
    "        # Clean and tokenize raw text\n",
    "        cleaned = clean_song(raw_data)\n",
    "        tokenized = tokenize(cleaned)\n",
    "        \n",
    "        # Get count vectorized representation and store in count_vectorized_all_documents  \n",
    "        count_vectorized_document = count_vectorize(tokenized)\n",
    "        count_vectorized_all_documents.append(count_vectorized_document)\n",
    "    \n",
    "    # Now that we have a list of BoW respresentations of each song, create a tf-idf representation of everything\n",
    "    tf_idf_all_docs = tf_idf(count_vectorized_all_documents)\n",
    "    \n",
    "    return tf_idf_all_docs\n",
    "\n",
    "tf_idf_all_docs = main(filenames)\n",
    "print(list(tf_idf_all_docs[0])[:10])"
   ]
  },
  {
   "cell_type": "markdown",
   "metadata": {},
   "source": [
    "### Visualizing our Vectorizations\n",
    "\n",
    "Now that we have a tf-idf representation of each document, we can move on to the fun part -- visualizing everything!\n",
    "\n",
    "In the cell below, examine our dataset to figure out how many dimensions our dataset has. \n",
    "\n",
    "**_HINT_**: Remember that every word is its own dimension!"
   ]
  },
  {
   "cell_type": "code",
   "execution_count": 133,
   "metadata": {
    "ExecuteTime": {
     "end_time": "2020-05-05T01:52:50.551410Z",
     "start_time": "2020-05-05T01:52:50.545165Z"
    }
   },
   "outputs": [
    {
     "name": "stdout",
     "output_type": "stream",
     "text": [
      "Number of Dimensions: 1344\n"
     ]
    }
   ],
   "source": [
    "num_dims = len(tf_idf_all_docs[0])\n",
    "print(\"Number of Dimensions: {}\".format(num_dims))"
   ]
  },
  {
   "cell_type": "markdown",
   "metadata": {},
   "source": [
    "There are too many dimensions for us to visualize! In order to make it understandable to human eyes, we'll need to reduce it to 2 or 3 dimensions.  \n",
    "\n",
    "To do this, we'll use a technique called **_t-SNE_** (short for _t-Stochastic Neighbors Embedding_).  This is too complex for us to code ourselves, so we'll make use of scikit-learn's implementation of it.  \n",
    "\n",
    "First, we need to pull the words out of the dictionaries stored in `tf_idf_all_docs` so that only the values remain, and store them in lists instead of dictionaries.  This is because the t-SNE only works with array-like objects, not dictionaries.  \n",
    "\n",
    "In the cell below, create a list of lists that contains a list representation of the values of each of the dictionaries stored in `tf_idf_all_docs`.  The same structure should remain -- e.g. the first list should contain only the values that were in the first dictionary in `tf_idf_all_docs`, and so on. "
   ]
  },
  {
   "cell_type": "code",
   "execution_count": 134,
   "metadata": {
    "ExecuteTime": {
     "end_time": "2020-05-05T01:53:07.099978Z",
     "start_time": "2020-05-05T01:53:07.086460Z"
    }
   },
   "outputs": [
    {
     "data": {
      "text/plain": [
       "[0.027399990306896257,\n",
       " 0.005272098572348419,\n",
       " 0.0005142184901007566,\n",
       " 0.023713999811073517,\n",
       " 0.009133330102298753,\n",
       " 0.009247102951812105,\n",
       " 0.010372004923396603,\n",
       " 0.0014983383477584471,\n",
       " 0.009133330102298753,\n",
       " 0.0035369970706513763]"
      ]
     },
     "execution_count": 134,
     "metadata": {},
     "output_type": "execute_result"
    }
   ],
   "source": [
    "tf_idf_vals_list = []\n",
    "\n",
    "for i in tf_idf_all_docs:\n",
    "    tf_idf_vals_list.append(list(i.values()))\n",
    "    \n",
    "tf_idf_vals_list[0][:10]"
   ]
  },
  {
   "cell_type": "markdown",
   "metadata": {},
   "source": [
    "Now that we have only the values, we can use the `TSNE()` class from `sklearn` to transform our data appropriately.  In the cell below, instantiate `TSNE()` with `n_components=3`.  Then, use the created object's `.fit_transform()` method to transform the data stored in `tf_idf_vals_list` into 3-dimensional data.  Then, inspect the newly transformed data to confirm that it has the correct dimensionality. "
   ]
  },
  {
   "cell_type": "code",
   "execution_count": 135,
   "metadata": {
    "ExecuteTime": {
     "end_time": "2020-05-05T01:53:19.983439Z",
     "start_time": "2020-05-05T01:53:19.690730Z"
    }
   },
   "outputs": [
    {
     "data": {
      "text/plain": [
       "array([[-5.22368126e+01, -8.37279224e+00,  1.70375748e+01],\n",
       "       [-1.14105406e+01,  2.22341400e+02,  2.03044296e+02],\n",
       "       [-1.43224380e+02, -8.89379501e+01, -1.54798065e+02],\n",
       "       [ 3.46311063e-01,  7.30658293e+00,  3.14708527e+02],\n",
       "       [ 2.41244629e+02, -9.50118179e+01, -1.18303917e+02],\n",
       "       [-3.31869545e+01,  2.19319168e+02, -1.73573494e+01],\n",
       "       [ 7.25209198e+01, -1.87741196e+02, -1.29701767e+01],\n",
       "       [ 5.81345062e+01, -8.18381882e+00, -1.42092316e+02],\n",
       "       [ 9.48763123e+01,  6.25561714e+01,  1.27269424e+02],\n",
       "       [-2.29520782e+02,  9.84113007e+01,  7.01653194e+00],\n",
       "       [-1.47736725e+02, -2.23126526e+02,  2.66231384e+01],\n",
       "       [ 1.97590622e+02,  5.18123047e+02, -1.05646576e+02],\n",
       "       [ 1.85889908e+02,  1.38987930e+02, -5.18809395e+01],\n",
       "       [ 2.40560646e+01, -9.30601196e+01, -3.24620361e+02],\n",
       "       [ 7.37674952e+00,  1.66206818e+02, -2.29529053e+02],\n",
       "       [ 5.06841583e+01, -1.71475662e+02,  1.91240067e+02],\n",
       "       [-1.77142868e+02, -2.37970333e+01,  1.82354584e+02],\n",
       "       [-2.75279114e+02,  4.92245789e+01, -1.94340729e+02],\n",
       "       [-2.81552200e+01, -2.72045410e+02, -1.82584473e+02],\n",
       "       [ 2.53712082e+02, -5.68271980e+01,  1.02854729e+02]], dtype=float32)"
      ]
     },
     "execution_count": 135,
     "metadata": {},
     "output_type": "execute_result"
    }
   ],
   "source": [
    "t_sne_object_3d = TSNE(n_components=3)\n",
    "transformed_data_3d = t_sne_object_3d.fit_transform(tf_idf_vals_list)\n",
    "transformed_data_3d"
   ]
  },
  {
   "cell_type": "markdown",
   "metadata": {},
   "source": [
    "We'll also want to check out how the visualization looks in 2d.  Repeat the process above, but this time, instantiate `TSNE()` with 2 components instead of 3.  Again, use `.fit_transform()` to transform the data and store it in the variable below, and then inspect it to confirm the transformed data has only 2 dimensions. "
   ]
  },
  {
   "cell_type": "code",
   "execution_count": 136,
   "metadata": {
    "ExecuteTime": {
     "end_time": "2020-05-05T01:54:18.238798Z",
     "start_time": "2020-05-05T01:54:17.987971Z"
    }
   },
   "outputs": [
    {
     "data": {
      "text/plain": [
       "array([[  -3.4202   ,   55.328648 ],\n",
       "       [ 144.68915  ,  103.87046  ],\n",
       "       [  89.013855 ,   74.4801   ],\n",
       "       [ -19.806911 ,  -15.806113 ],\n",
       "       [  30.01257  ,   85.84478  ],\n",
       "       [ -91.21563  , -150.85344  ],\n",
       "       [ -34.81992  ,   27.281351 ],\n",
       "       [   7.81688  ,  -57.377884 ],\n",
       "       [  49.397583 ,  122.88522  ],\n",
       "       [-113.44042  ,  -81.83963  ],\n",
       "       [ -22.79525  ,  105.59761  ],\n",
       "       [  89.22125  ,   20.249931 ],\n",
       "       [ -70.69083  ,   63.495483 ],\n",
       "       [  49.487415 ,  -35.748013 ],\n",
       "       [ -36.51132  ,  -77.964294 ],\n",
       "       [  99.08619  ,  -32.37163  ],\n",
       "       [ -65.93287  ,  -32.663406 ],\n",
       "       [ -87.50742  ,   10.356239 ],\n",
       "       [  45.82345  ,   42.37944  ],\n",
       "       [  21.9872   ,    5.2214646]], dtype=float32)"
      ]
     },
     "execution_count": 136,
     "metadata": {},
     "output_type": "execute_result"
    }
   ],
   "source": [
    "t_sne_object_2d = TSNE(n_components=2)\n",
    "transformed_data_2d = t_sne_object_2d.fit_transform(tf_idf_vals_list)\n",
    "transformed_data_2d"
   ]
  },
  {
   "cell_type": "markdown",
   "metadata": {},
   "source": [
    "Now, let's visualize everything!  Run the cell below to view both 3D and 2D visualizations of the songs."
   ]
  },
  {
   "cell_type": "code",
   "execution_count": 137,
   "metadata": {
    "ExecuteTime": {
     "end_time": "2020-05-05T01:54:24.142653Z",
     "start_time": "2020-05-05T01:54:23.356421Z"
    }
   },
   "outputs": [
    {
     "data": {
      "image/png": "[encoded data removed]",
      "text/plain": [
       "<Figure size 1440x720 with 1 Axes>"
      ]
     },
     "metadata": {
      "needs_background": "light"
     },
     "output_type": "display_data"
    },
    {
     "data": {
      "image/png": "[encoded data removed]",
      "text/plain": [
       "<Figure size 1440x720 with 1 Axes>"
      ]
     },
     "metadata": {
      "needs_background": "light"
     },
     "output_type": "display_data"
    }
   ],
   "source": [
    "kendrick_3d = transformed_data_3d[10:]\n",
    "k3_x = [i[0] for i in kendrick_3d]\n",
    "k3_y = [i[1] for i in kendrick_3d]\n",
    "k3_z = [i[2] for i in kendrick_3d]\n",
    "\n",
    "garth_3d = transformed_data_3d[:10]\n",
    "g3_x = [i[0] for i in garth_3d]\n",
    "g3_y = [i[1] for i in garth_3d]\n",
    "g3_z = [i[2] for i in garth_3d]\n",
    "\n",
    "fig = plt.figure(figsize=(20,10))\n",
    "ax = fig.add_subplot(111, projection='3d')\n",
    "ax.scatter(k3_x, k3_y, k3_z, c='b', s=60, label='Kendrick')\n",
    "ax.scatter(g3_x, g3_y, g3_z, c='red', s=60, label='Garth')\n",
    "ax.view_init(30, 10)\n",
    "ax.legend()\n",
    "plt.show()\n",
    "\n",
    "kendrick_2d = transformed_data_2d[:10]\n",
    "k2_x = [i[0] for i in kendrick_2d]\n",
    "k2_y = [i[1] for i in kendrick_2d]\n",
    "\n",
    "garth_2d = transformed_data_2d[10:]\n",
    "g2_x = [i[0] for i in garth_2d]\n",
    "g2_y = [i[1] for i in garth_2d]\n",
    "\n",
    "fig = plt.figure(figsize=(20,10))\n",
    "ax = fig.add_subplot(222)\n",
    "ax.scatter(k2_x, k2_y, c='b', label='Kendrick')\n",
    "ax.scatter(g2_x, g2_y, c='red', label='Garth')\n",
    "ax.legend()\n",
    "plt.show()"
   ]
  },
  {
   "cell_type": "markdown",
   "metadata": {},
   "source": [
    "Interesting! Take a crack at interpreting these graphs by answering the following questions below:\n",
    "\n",
    "What does each graph mean? Do you find one graph more informative than the other? Do you think that this method shows us discernable differences between Kendrick Lamar songs and Garth Brooks songs?  Use the graphs and your understanding of TF-IDF to support your answer.  \n",
    "\n",
    "Write your answer to this question below this line:\n",
    "________________________________________________________________________________________________________________________________\n",
    "\n",
    "Both graphs show a basic trend among the red and blue dots, although the 3-dimensional graph is more informative than the 2-dimensional graph. We see a separation between the two artists because they both have words that they use, but the other artist does not. The words in each song that are common to both are reduced to very small numbers or to 0, because of the log operation in the IDF function.  This means that the elements of each song vector with the highest values will be the ones that have words that are unique to that specific document, or at least are rarely used in others.  "
   ]
  },
  {
   "cell_type": "markdown",
   "metadata": {},
   "source": [
    "## Summary\n",
    "\n",
    "In this lab, you learned how to: \n",
    "* Tokenize a corpus of words and identify the different choices to be made while parsing them \n",
    "* Use a count vectorization strategy to create a bag of words\n",
    "* Use TF-IDF vectorization with multiple documents to identify words that are important/unique to certain documents\n",
    "* Visualize and compare vectorized text documents"
   ]
  }
 ],
 "metadata": {
  "kernelspec": {
   "display_name": "learn-env",
   "language": "python",
   "name": "learn-env"
  },
  "language_info": {
   "codemirror_mode": {
    "name": "ipython",
    "version": 3
   },
   "file_extension": ".py",
   "mimetype": "text/x-python",
   "name": "python",
   "nbconvert_exporter": "python",
   "pygments_lexer": "ipython3",
   "version": "3.6.6"
  }
 },
 "nbformat": 4,
 "nbformat_minor": 2
}
